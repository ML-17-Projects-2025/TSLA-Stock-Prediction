{
 "cells": [
  {
   "cell_type": "code",
   "execution_count": 1,
   "metadata": {},
   "outputs": [],
   "source": [
    "# Libraries\n",
    "import seaborn as sns\n",
    "from pylab import rcParams\n",
    "import matplotlib.pyplot as plt\n",
    "from matplotlib import rc\n",
    "\n",
    "import pandas as pd\n",
    "import numpy as np\n",
    "from tqdm.notebook import tqdm\n",
    "\n",
    "from sklearn.preprocessing import MinMaxScaler\n",
    "\n",
    "import torch\n",
    "import torch.nn as nn\n",
    "import torch.optim as optim\n",
    "from torch.utils.data import DataLoader, TensorDataset\n",
    "from sklearn.metrics import mean_squared_error, r2_score\n",
    "from collections import defaultdict"
   ]
  },
  {
   "cell_type": "code",
   "execution_count": 2,
   "metadata": {},
   "outputs": [
    {
     "name": "stdout",
     "output_type": "stream",
     "text": [
      "YF.download() has changed argument auto_adjust default to True\n"
     ]
    },
    {
     "name": "stderr",
     "output_type": "stream",
     "text": [
      "[*********************100%***********************]  1 of 1 completed\n"
     ]
    }
   ],
   "source": [
    "import yfinance as yf\n",
    "from datetime import date\n",
    "\n",
    "end_date = date.today().strftime(\"%Y-%m-%d\")\n",
    "start_date = '2010-06-29'\n",
    "\n",
    "df = yf.download('TSLA', start=start_date, end=end_date)"
   ]
  },
  {
   "cell_type": "code",
   "execution_count": 3,
   "metadata": {},
   "outputs": [
    {
     "name": "stdout",
     "output_type": "stream",
     "text": [
      "Price          Close      High       Low      Open     Volume\n",
      "Ticker          TSLA      TSLA      TSLA      TSLA       TSLA\n",
      "Date                                                         \n",
      "2010-06-29  1.592667  1.666667  1.169333  1.266667  281494500\n",
      "2010-06-30  1.588667  2.028000  1.553333  1.719333  257806500\n",
      "2010-07-01  1.464000  1.728000  1.351333  1.666667  123282000\n",
      "2010-07-02  1.280000  1.540000  1.247333  1.533333   77097000\n",
      "2010-07-06  1.074000  1.333333  1.055333  1.333333  103003500\n",
      "<class 'pandas.core.frame.DataFrame'>\n",
      "DatetimeIndex: 3706 entries, 2010-06-29 to 2025-03-21\n",
      "Data columns (total 5 columns):\n",
      " #   Column          Non-Null Count  Dtype  \n",
      "---  ------          --------------  -----  \n",
      " 0   (Close, TSLA)   3706 non-null   float64\n",
      " 1   (High, TSLA)    3706 non-null   float64\n",
      " 2   (Low, TSLA)     3706 non-null   float64\n",
      " 3   (Open, TSLA)    3706 non-null   float64\n",
      " 4   (Volume, TSLA)  3706 non-null   int64  \n",
      "dtypes: float64(4), int64(1)\n",
      "memory usage: 173.7 KB\n",
      "None\n"
     ]
    }
   ],
   "source": [
    "print(df.head())\n",
    "print(df.info())"
   ]
  }
 ],
 "metadata": {
  "kernelspec": {
   "display_name": ".conda",
   "language": "python",
   "name": "python3"
  },
  "language_info": {
   "codemirror_mode": {
    "name": "ipython",
    "version": 3
   },
   "file_extension": ".py",
   "mimetype": "text/x-python",
   "name": "python",
   "nbconvert_exporter": "python",
   "pygments_lexer": "ipython3",
   "version": "3.11.11"
  }
 },
 "nbformat": 4,
 "nbformat_minor": 2
}
